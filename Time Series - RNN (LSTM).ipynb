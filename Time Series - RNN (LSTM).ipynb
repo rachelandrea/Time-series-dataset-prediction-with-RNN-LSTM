{
  "cells": [
    {
      "cell_type": "markdown",
      "metadata": {},
      "source": [
        "# Dataset Time Series"
      ]
    },
    {
      "cell_type": "markdown",
      "metadata": {},
      "source": [
        "## Dataset AMZN.csv"
      ]
    },
    {
      "cell_type": "markdown",
      "metadata": {},
      "source": [
        "### a. Eksplorasi Data"
      ]
    },
    {
      "cell_type": "code",
      "execution_count": 142,
      "metadata": {},
      "outputs": [
        {
          "data": {
            "text/html": [
              "<div>\n",
              "<style scoped>\n",
              "    .dataframe tbody tr th:only-of-type {\n",
              "        vertical-align: middle;\n",
              "    }\n",
              "\n",
              "    .dataframe tbody tr th {\n",
              "        vertical-align: top;\n",
              "    }\n",
              "\n",
              "    .dataframe thead th {\n",
              "        text-align: right;\n",
              "    }\n",
              "</style>\n",
              "<table border=\"1\" class=\"dataframe\">\n",
              "  <thead>\n",
              "    <tr style=\"text-align: right;\">\n",
              "      <th></th>\n",
              "      <th>Open</th>\n",
              "      <th>High</th>\n",
              "      <th>Low</th>\n",
              "      <th>Close</th>\n",
              "      <th>Adj Close</th>\n",
              "      <th>Volume</th>\n",
              "    </tr>\n",
              "    <tr>\n",
              "      <th>Date</th>\n",
              "      <th></th>\n",
              "      <th></th>\n",
              "      <th></th>\n",
              "      <th></th>\n",
              "      <th></th>\n",
              "      <th></th>\n",
              "    </tr>\n",
              "  </thead>\n",
              "  <tbody>\n",
              "    <tr>\n",
              "      <th>1997-05-15</th>\n",
              "      <td>2.437500</td>\n",
              "      <td>2.500000</td>\n",
              "      <td>1.927083</td>\n",
              "      <td>1.958333</td>\n",
              "      <td>1.958333</td>\n",
              "      <td>72156000</td>\n",
              "    </tr>\n",
              "    <tr>\n",
              "      <th>1997-05-16</th>\n",
              "      <td>1.968750</td>\n",
              "      <td>1.979167</td>\n",
              "      <td>1.708333</td>\n",
              "      <td>1.729167</td>\n",
              "      <td>1.729167</td>\n",
              "      <td>14700000</td>\n",
              "    </tr>\n",
              "    <tr>\n",
              "      <th>1997-05-19</th>\n",
              "      <td>1.760417</td>\n",
              "      <td>1.770833</td>\n",
              "      <td>1.625000</td>\n",
              "      <td>1.708333</td>\n",
              "      <td>1.708333</td>\n",
              "      <td>6106800</td>\n",
              "    </tr>\n",
              "    <tr>\n",
              "      <th>1997-05-20</th>\n",
              "      <td>1.729167</td>\n",
              "      <td>1.750000</td>\n",
              "      <td>1.635417</td>\n",
              "      <td>1.635417</td>\n",
              "      <td>1.635417</td>\n",
              "      <td>5467200</td>\n",
              "    </tr>\n",
              "    <tr>\n",
              "      <th>1997-05-21</th>\n",
              "      <td>1.635417</td>\n",
              "      <td>1.645833</td>\n",
              "      <td>1.375000</td>\n",
              "      <td>1.427083</td>\n",
              "      <td>1.427083</td>\n",
              "      <td>18853200</td>\n",
              "    </tr>\n",
              "  </tbody>\n",
              "</table>\n",
              "</div>"
            ],
            "text/plain": [
              "                Open      High       Low     Close  Adj Close    Volume\n",
              "Date                                                                   \n",
              "1997-05-15  2.437500  2.500000  1.927083  1.958333   1.958333  72156000\n",
              "1997-05-16  1.968750  1.979167  1.708333  1.729167   1.729167  14700000\n",
              "1997-05-19  1.760417  1.770833  1.625000  1.708333   1.708333   6106800\n",
              "1997-05-20  1.729167  1.750000  1.635417  1.635417   1.635417   5467200\n",
              "1997-05-21  1.635417  1.645833  1.375000  1.427083   1.427083  18853200"
            ]
          },
          "execution_count": 142,
          "metadata": {},
          "output_type": "execute_result"
        }
      ],
      "source": [
        "# Import with pandas\n",
        "import pandas as pd\n",
        "# Parse dates and set date column to index\n",
        "df = pd.read_csv(\"AMZN.csv\",\n",
        "                 parse_dates=[\"Date\"],\n",
        "                 index_col=[\"Date\"]) # parse the date column (tell pandas column 1 is a datetime)\n",
        "df.head()"
      ]
    },
    {
      "cell_type": "code",
      "execution_count": 143,
      "metadata": {},
      "outputs": [
        {
          "name": "stdout",
          "output_type": "stream",
          "text": [
            "<class 'pandas.core.frame.DataFrame'>\n",
            "DatetimeIndex: 5758 entries, 1997-05-15 to 2020-04-01\n",
            "Data columns (total 6 columns):\n",
            " #   Column     Non-Null Count  Dtype  \n",
            "---  ------     --------------  -----  \n",
            " 0   Open       5758 non-null   float64\n",
            " 1   High       5758 non-null   float64\n",
            " 2   Low        5758 non-null   float64\n",
            " 3   Close      5758 non-null   float64\n",
            " 4   Adj Close  5758 non-null   float64\n",
            " 5   Volume     5758 non-null   int64  \n",
            "dtypes: float64(5), int64(1)\n",
            "memory usage: 314.9 KB\n"
          ]
        }
      ],
      "source": [
        "df.info()"
      ]
    },
    {
      "cell_type": "code",
      "execution_count": 144,
      "metadata": {},
      "outputs": [
        {
          "data": {
            "text/plain": [
              "5758"
            ]
          },
          "execution_count": 144,
          "metadata": {},
          "output_type": "execute_result"
        }
      ],
      "source": [
        "# How many samples do we have?\n",
        "len(df)"
      ]
    },
    {
      "cell_type": "code",
      "execution_count": 145,
      "metadata": {},
      "outputs": [
        {
          "data": {
            "text/html": [
              "<div>\n",
              "<style scoped>\n",
              "    .dataframe tbody tr th:only-of-type {\n",
              "        vertical-align: middle;\n",
              "    }\n",
              "\n",
              "    .dataframe tbody tr th {\n",
              "        vertical-align: top;\n",
              "    }\n",
              "\n",
              "    .dataframe thead th {\n",
              "        text-align: right;\n",
              "    }\n",
              "</style>\n",
              "<table border=\"1\" class=\"dataframe\">\n",
              "  <thead>\n",
              "    <tr style=\"text-align: right;\">\n",
              "      <th></th>\n",
              "      <th>Close</th>\n",
              "    </tr>\n",
              "    <tr>\n",
              "      <th>Date</th>\n",
              "      <th></th>\n",
              "    </tr>\n",
              "  </thead>\n",
              "  <tbody>\n",
              "    <tr>\n",
              "      <th>1997-05-15</th>\n",
              "      <td>1.958333</td>\n",
              "    </tr>\n",
              "    <tr>\n",
              "      <th>1997-05-16</th>\n",
              "      <td>1.729167</td>\n",
              "    </tr>\n",
              "    <tr>\n",
              "      <th>1997-05-19</th>\n",
              "      <td>1.708333</td>\n",
              "    </tr>\n",
              "    <tr>\n",
              "      <th>1997-05-20</th>\n",
              "      <td>1.635417</td>\n",
              "    </tr>\n",
              "    <tr>\n",
              "      <th>1997-05-21</th>\n",
              "      <td>1.427083</td>\n",
              "    </tr>\n",
              "  </tbody>\n",
              "</table>\n",
              "</div>"
            ],
            "text/plain": [
              "               Close\n",
              "Date                \n",
              "1997-05-15  1.958333\n",
              "1997-05-16  1.729167\n",
              "1997-05-19  1.708333\n",
              "1997-05-20  1.635417\n",
              "1997-05-21  1.427083"
            ]
          },
          "execution_count": 145,
          "metadata": {},
          "output_type": "execute_result"
        }
      ],
      "source": [
        "# Only want closing price for each day\n",
        "amazon_prices = pd.DataFrame(df[\"Close\"])\n",
        "amazon_prices.head()"
      ]
    },
    {
      "cell_type": "code",
      "execution_count": 146,
      "metadata": {},
      "outputs": [
        {
          "data": {
            "image/png": "[encoded data removed]",
            "text/plain": [
              "<Figure size 1000x700 with 1 Axes>"
            ]
          },
          "metadata": {},
          "output_type": "display_data"
        }
      ],
      "source": [
        "import matplotlib.pyplot as plt\n",
        "amazon_prices.plot(figsize=(10, 7))\n",
        "plt.ylabel(\"AMAZON Price\")\n",
        "plt.title(\"Price of amazon from 2000 to 2020\", fontsize=16)\n",
        "plt.legend(fontsize=14);"
      ]
    },
    {
      "cell_type": "markdown",
      "metadata": {},
      "source": [
        "#### Membuat function untuk evaluasi"
      ]
    },
    {
      "cell_type": "code",
      "execution_count": 147,
      "metadata": {},
      "outputs": [],
      "source": [
        "# Let's get TensorFlow!\n",
        "import tensorflow as tf"
      ]
    },
    {
      "cell_type": "code",
      "execution_count": 148,
      "metadata": {},
      "outputs": [],
      "source": [
        "# MASE \n",
        "def mean_absolute_scaled_error(y_true, y_pred):\n",
        "  \"\"\"\n",
        "  Implement MASE (assuming no seasonality of data).\n",
        "  \"\"\"\n",
        "  mae = tf.reduce_mean(tf.abs(y_true - y_pred))\n",
        "\n",
        "  # Find MAE of naive forecast (no seasonality)\n",
        "  mae_naive_no_season = tf.reduce_mean(tf.abs(y_true[1:] - y_true[:-1])) # our seasonality is 1 day (hence the shifting of 1 day)\n",
        "\n",
        "  return mae / mae_naive_no_season"
      ]
    },
    {
      "cell_type": "code",
      "execution_count": 149,
      "metadata": {},
      "outputs": [],
      "source": [
        "def evaluate_preds(y_true, y_pred):\n",
        "  # Make sure float32 (for metric calculations)\n",
        "  y_true = tf.cast(y_true, dtype=tf.float32)\n",
        "  y_pred = tf.cast(y_pred, dtype=tf.float32)\n",
        "\n",
        "  # Calculate various metrics\n",
        "  mae = tf.keras.metrics.mean_absolute_error(y_true, y_pred)\n",
        "  mse = tf.keras.metrics.mean_squared_error(y_true, y_pred) # puts and emphasis on outliers (all errors get squared)\n",
        "  rmse = tf.sqrt(mse)\n",
        "  mape = tf.keras.metrics.mean_absolute_percentage_error(y_true, y_pred)\n",
        "  mase = mean_absolute_scaled_error(y_true, y_pred)\n",
        "\n",
        "  return {\"mae\": mae.numpy(),\n",
        "          \"mse\": mse.numpy(),\n",
        "          \"rmse\": rmse.numpy(),\n",
        "          \"mape\": mape.numpy(),\n",
        "          \"mase\": mase.numpy()\n",
        "          }"
      ]
    },
    {
      "cell_type": "markdown",
      "metadata": {},
      "source": [
        "#### Bagi data menjadi dua bagian input dan output dengan window size = 5 [dari hari senin s.d jumat] dan horizon = 1 [hari senin saja]"
      ]
    },
    {
      "cell_type": "code",
      "execution_count": 150,
      "metadata": {},
      "outputs": [
        {
          "data": {
            "text/plain": [
              "(array(['1997-05-15T00:00:00.000000000', '1997-05-16T00:00:00.000000000',\n",
              "        '1997-05-19T00:00:00.000000000', '1997-05-20T00:00:00.000000000',\n",
              "        '1997-05-21T00:00:00.000000000', '1997-05-22T00:00:00.000000000',\n",
              "        '1997-05-23T00:00:00.000000000', '1997-05-27T00:00:00.000000000',\n",
              "        '1997-05-28T00:00:00.000000000', '1997-05-29T00:00:00.000000000'],\n",
              "       dtype='datetime64[ns]'),\n",
              " array([1.95833337, 1.72916663, 1.70833337, 1.63541663, 1.42708337,\n",
              "        1.39583337, 1.5       , 1.58333337, 1.53125   , 1.50520837]))"
            ]
          },
          "execution_count": 150,
          "metadata": {},
          "output_type": "execute_result"
        }
      ],
      "source": [
        "# Get amazon date array\n",
        "timesteps = amazon_prices.index.to_numpy()\n",
        "prices = amazon_prices[\"Close\"].to_numpy()\n",
        "\n",
        "timesteps[:10], prices[:10]"
      ]
    },
    {
      "cell_type": "code",
      "execution_count": 151,
      "metadata": {},
      "outputs": [],
      "source": [
        "WINDOW_SIZE = 5 # dari hari senin s.d jumat\n",
        "HORIZON = 1 # hari senin saja"
      ]
    },
    {
      "cell_type": "code",
      "execution_count": 152,
      "metadata": {},
      "outputs": [],
      "source": [
        "# Create function to label windowed data\n",
        "def get_labelled_windows(x, horizon=1):\n",
        "  \"\"\"\n",
        "  Creates labels for windowed dataset.\n",
        "\n",
        "  E.g. if horizon=1 (default)\n",
        "  Input: [1, 2, 3, 4, 5, 6] -> Output: ([1, 2, 3, 4, 5], [6])\n",
        "  \"\"\"\n",
        "  return x[:, :-horizon], x[:, -horizon:]"
      ]
    },
    {
      "cell_type": "code",
      "execution_count": 153,
      "metadata": {},
      "outputs": [
        {
          "name": "stdout",
          "output_type": "stream",
          "text": [
            "Window: [1 2 3 4 5] -> Label: 6\n"
          ]
        }
      ],
      "source": [
        "# Test out the window labelling function\n",
        "test_window, test_label = get_labelled_windows(tf.expand_dims(tf.range(6)+1, axis=0), horizon=HORIZON)\n",
        "print(f\"Window: {tf.squeeze(test_window).numpy()} -> Label: {tf.squeeze(test_label).numpy()}\")"
      ]
    },
    {
      "cell_type": "code",
      "execution_count": 154,
      "metadata": {},
      "outputs": [],
      "source": [
        "# Create function to view NumPy arrays as windows\n",
        "def make_windows(x, window_size=1, horizon=5):\n",
        "  \"\"\"\n",
        "  Turns a 1D array into a 2D array of sequential windows of window_size.\n",
        "  \"\"\"\n",
        "  # 1. Create a window of specific window_size (add the horizon on the end for later labelling)\n",
        "  window_step = np.expand_dims(np.arange(window_size+horizon), axis=0)\n",
        "  # print(f\"Window step:\\n {window_step}\")\n",
        "\n",
        "  # 2. Create a 2D array of multiple window steps (minus 1 to account for 0 indexing)\n",
        "  window_indexes = window_step + np.expand_dims(np.arange(len(x)-(window_size+horizon-1)), axis=0).T # create 2D array of windows of size window_size\n",
        "  # print(f\"Window indexes:\\n {window_indexes[:3], window_indexes[-3:], window_indexes.shape}\")\n",
        "\n",
        "  # 3. Index on the target array (time series) with 2D array of multiple window steps\n",
        "  windowed_array = x[window_indexes]\n",
        "\n",
        "  # 4. Get the labelled windows\n",
        "  windows, labels = get_labelled_windows(windowed_array, horizon=horizon)\n",
        "\n",
        "  return windows, labels"
      ]
    },
    {
      "cell_type": "code",
      "execution_count": 155,
      "metadata": {},
      "outputs": [],
      "source": [
        "import numpy as np"
      ]
    },
    {
      "cell_type": "code",
      "execution_count": 156,
      "metadata": {},
      "outputs": [
        {
          "data": {
            "text/plain": [
              "(5753, 5753)"
            ]
          },
          "execution_count": 156,
          "metadata": {},
          "output_type": "execute_result"
        }
      ],
      "source": [
        "full_windows, full_labels = make_windows(prices, window_size=WINDOW_SIZE, horizon=HORIZON)\n",
        "len(full_windows), len(full_labels)"
      ]
    },
    {
      "cell_type": "code",
      "execution_count": 157,
      "metadata": {},
      "outputs": [
        {
          "name": "stdout",
          "output_type": "stream",
          "text": [
            "Window: [1.95833337 1.72916663 1.70833337 1.63541663 1.42708337] -> Label: [1.39583337]\n",
            "Window: [1.72916663 1.70833337 1.63541663 1.42708337 1.39583337] -> Label: [1.5]\n",
            "Window: [1.70833337 1.63541663 1.42708337 1.39583337 1.5       ] -> Label: [1.58333337]\n"
          ]
        }
      ],
      "source": [
        "# View the first 3 windows/labels\n",
        "for i in range(3):\n",
        "  print(f\"Window: {full_windows[i]} -> Label: {full_labels[i]}\")"
      ]
    },
    {
      "cell_type": "code",
      "execution_count": 158,
      "metadata": {},
      "outputs": [
        {
          "name": "stdout",
          "output_type": "stream",
          "text": [
            "Train set: 4606 data points\n",
            "Validation set: 575 data points\n",
            "Test set: 577 data points\n"
          ]
        }
      ],
      "source": [
        "# Menentukan ukuran split untuk masing-masing set\n",
        "train_size = int(0.8 * len(prices))  # 80% untuk training\n",
        "val_size = int(0.1 * len(prices))   # 10% untuk validation\n",
        "test_size = len(prices) - train_size - val_size  # Sisa untuk testing\n",
        "\n",
        "# Membagi data menjadi train, validation, dan test sets\n",
        "X_train, y_train = timesteps[:train_size], prices[:train_size]\n",
        "X_val, y_val = timesteps[train_size:train_size+val_size], prices[train_size:train_size+val_size]\n",
        "X_test, y_test = timesteps[train_size+val_size:], prices[train_size+val_size:]\n",
        "\n",
        "# Memeriksa panjang masing-masing set\n",
        "print(f\"Train set: {len(X_train)} data points\")\n",
        "print(f\"Validation set: {len(X_val)} data points\")\n",
        "print(f\"Test set: {len(X_test)} data points\")"
      ]
    },
    {
      "cell_type": "code",
      "execution_count": 159,
      "metadata": {},
      "outputs": [
        {
          "data": {
            "image/png": "[encoded data removed]",
            "text/plain": [
              "<Figure size 1000x700 with 1 Axes>"
            ]
          },
          "metadata": {},
          "output_type": "display_data"
        }
      ],
      "source": [
        "# Plot correctly made splits\n",
        "plt.figure(figsize=(10, 7))\n",
        "plt.scatter(X_train, y_train, s=5, label=\"Train data\")\n",
        "plt.scatter(X_test, y_test, s=5, label=\"Test data\")\n",
        "plt.xlabel(\"Date\")\n",
        "plt.ylabel(\"amzn Price\")\n",
        "plt.legend(fontsize=14)\n",
        "plt.show();"
      ]
    },
    {
      "cell_type": "code",
      "execution_count": 160,
      "metadata": {},
      "outputs": [],
      "source": [
        "# Make the train/test splits\n",
        "def make_train_test_splits(windows, labels, test_split=0.2):\n",
        "  \"\"\"\n",
        "  Splits matching pairs of windows and labels into train and test splits.\n",
        "  \"\"\"\n",
        "  # Menentukan ukuran split untuk masing-masing set\n",
        "  train_size = int(0.8 * len(prices))  # 80% untuk training\n",
        "  val_size = int(0.1 * len(prices))   # 10% untuk validation\n",
        "  test_size = len(prices) - train_size - val_size  # Sisa untuk testing\n",
        "  \n",
        "  train_windows = windows[:train_size]\n",
        "  train_labels = labels[:train_size]\n",
        "  val_windows = windows[train_size:train_size+val_size]\n",
        "  val_labels = labels[train_size:train_size+val_size]\n",
        "  test_windows = windows[train_size+val_size::]\n",
        "  test_labels = labels[train_size+val_size:]\n",
        "  return train_windows, val_windows, test_windows, train_labels, val_labels, test_labels"
      ]
    },
    {
      "cell_type": "markdown",
      "metadata": {},
      "source": [
        "Look at that amazing function, lets test it."
      ]
    },
    {
      "cell_type": "code",
      "execution_count": 161,
      "metadata": {},
      "outputs": [
        {
          "data": {
            "text/plain": [
              "(4606, 575, 572, 4606, 575, 572)"
            ]
          },
          "execution_count": 161,
          "metadata": {},
          "output_type": "execute_result"
        }
      ],
      "source": [
        "train_windows, val_windows, test_windows, train_labels, val_labels, test_labels = make_train_test_splits(full_windows, full_labels)\n",
        "len(train_windows), len(val_windows), len(test_windows), len(train_labels), len(val_labels), len(test_labels)"
      ]
    },
    {
      "cell_type": "code",
      "execution_count": 162,
      "metadata": {},
      "outputs": [
        {
          "data": {
            "text/plain": [
              "((4606, 5), (4606, 1))"
            ]
          },
          "execution_count": 162,
          "metadata": {},
          "output_type": "execute_result"
        }
      ],
      "source": [
        "train_windows.shape, train_labels.shape"
      ]
    },
    {
      "cell_type": "code",
      "execution_count": 163,
      "metadata": {},
      "outputs": [
        {
          "data": {
            "text/plain": [
              "(array([[1.95833337, 1.72916663, 1.70833337, 1.63541663, 1.42708337],\n",
              "        [1.72916663, 1.70833337, 1.63541663, 1.42708337, 1.39583337],\n",
              "        [1.70833337, 1.63541663, 1.42708337, 1.39583337, 1.5       ],\n",
              "        [1.63541663, 1.42708337, 1.39583337, 1.5       , 1.58333337],\n",
              "        [1.42708337, 1.39583337, 1.5       , 1.58333337, 1.53125   ]]),\n",
              " array([[1.39583337],\n",
              "        [1.5       ],\n",
              "        [1.58333337],\n",
              "        [1.53125   ],\n",
              "        [1.50520837]]))"
            ]
          },
          "execution_count": 163,
          "metadata": {},
          "output_type": "execute_result"
        }
      ],
      "source": [
        "train_windows[:5], train_labels[:5]"
      ]
    },
    {
      "cell_type": "code",
      "execution_count": 164,
      "metadata": {},
      "outputs": [
        {
          "data": {
            "text/plain": [
              "False"
            ]
          },
          "execution_count": 164,
          "metadata": {},
          "output_type": "execute_result"
        }
      ],
      "source": [
        "# Check to see if same (accounting for horizon and window size)\n",
        "np.array_equal(np.squeeze(train_labels[:-HORIZON-1]), y_train[WINDOW_SIZE:])"
      ]
    },
    {
      "cell_type": "markdown",
      "metadata": {},
      "source": [
        "#### Membuat modelling checkpoint"
      ]
    },
    {
      "cell_type": "code",
      "execution_count": 165,
      "metadata": {},
      "outputs": [],
      "source": [
        "import os\n",
        "\n",
        "# Create a function to implement a ModelCheckpoint callback with a specific filename\n",
        "def create_model_checkpoint(model_name, save_path=\"model_experiments\"):\n",
        "  return tf.keras.callbacks.ModelCheckpoint(filepath=os.path.join(save_path, model_name), # create filepath to save model\n",
        "                                            verbose=0, # only output a limited amount of text\n",
        "                                            save_best_only=True) # save only the best model to file"
      ]
    },
    {
      "cell_type": "markdown",
      "metadata": {},
      "source": [
        "#### Membuat function untuk melakukan prediksi"
      ]
    },
    {
      "cell_type": "code",
      "execution_count": 166,
      "metadata": {},
      "outputs": [],
      "source": [
        "def make_preds(model, input_data):\n",
        "  \"\"\"\n",
        "  Uses model to make predictions on input_data.\n",
        "\n",
        "  Parameters\n",
        "  ----------\n",
        "  model: trained model\n",
        "  input_data: windowed input data (same kind of data model was trained on)\n",
        "\n",
        "  Returns model predictions on input_data.\n",
        "  \"\"\"\n",
        "  forecast = model.predict(input_data)\n",
        "  return tf.squeeze(forecast) # return 1D array of predictions"
      ]
    },
    {
      "cell_type": "markdown",
      "metadata": {},
      "source": [
        "### Modelling: RNN (LSTM)"
      ]
    },
    {
      "cell_type": "code",
      "execution_count": 167,
      "metadata": {},
      "outputs": [
        {
          "name": "stdout",
          "output_type": "stream",
          "text": [
            "INFO:tensorflow:Assets written to: model_experiments\\model_1_lstm\\assets\n",
            "INFO:tensorflow:Assets written to: model_experiments\\model_1_lstm\\assets\n",
            "INFO:tensorflow:Assets written to: model_experiments\\model_1_lstm\\assets\n",
            "INFO:tensorflow:Assets written to: model_experiments\\model_1_lstm\\assets\n",
            "INFO:tensorflow:Assets written to: model_experiments\\model_1_lstm\\assets\n",
            "INFO:tensorflow:Assets written to: model_experiments\\model_1_lstm\\assets\n",
            "INFO:tensorflow:Assets written to: model_experiments\\model_1_lstm\\assets\n",
            "INFO:tensorflow:Assets written to: model_experiments\\model_1_lstm\\assets\n",
            "INFO:tensorflow:Assets written to: model_experiments\\model_1_lstm\\assets\n",
            "INFO:tensorflow:Assets written to: model_experiments\\model_1_lstm\\assets\n",
            "INFO:tensorflow:Assets written to: model_experiments\\model_1_lstm\\assets\n",
            "INFO:tensorflow:Assets written to: model_experiments\\model_1_lstm\\assets\n",
            "INFO:tensorflow:Assets written to: model_experiments\\model_1_lstm\\assets\n",
            "INFO:tensorflow:Assets written to: model_experiments\\model_1_lstm\\assets\n"
          ]
        },
        {
          "data": {
            "text/plain": [
              "<keras.callbacks.History at 0x2403118b820>"
            ]
          },
          "execution_count": 167,
          "metadata": {},
          "output_type": "execute_result"
        }
      ],
      "source": [
        "from tensorflow.keras import layers, regularizers\n",
        "tf.random.set_seed(42)\n",
        "tf.random.set_seed(42)\n",
        "\n",
        "# Let's build an LSTM model with the Functional API\n",
        "inputs = layers.Input(shape=(WINDOW_SIZE))\n",
        "x = layers.Lambda(lambda x: tf.expand_dims(x, axis=1))(inputs) # expand input dimension to be compatible with LSTM\n",
        "# print(x.shape)\n",
        "# x = layers.LSTM(128, activation=\"relu\", return_sequences=True)(x) # this layer will error if the inputs are not the right shape\n",
        "x = layers.LSTM(50, activation=\"relu\")(x) \n",
        "\n",
        "# x = layers.Dense(32, activation=\"relu\")(x)\n",
        "output = layers.Dense(HORIZON)(x)\n",
        "model_1 = tf.keras.Model(inputs=inputs, outputs=output, name=\"model_1_lstm\")\n",
        "\n",
        "# Compile model\n",
        "model_1.compile(loss=\"mae\",\n",
        "                optimizer=tf.keras.optimizers.Adam())\n",
        "\n",
        "# Seems when saving the model several warnings are appearing: https://github.com/tensorflow/tensorflow/issues/47554\n",
        "model_1.fit(train_windows,\n",
        "            train_labels,\n",
        "            epochs=100,\n",
        "            verbose=0,\n",
        "            batch_size=128,\n",
        "            validation_data=(test_windows, test_labels),\n",
        "            callbacks=[create_model_checkpoint(model_name=model_1.name)])"
      ]
    },
    {
      "cell_type": "code",
      "execution_count": 168,
      "metadata": {},
      "outputs": [
        {
          "name": "stdout",
          "output_type": "stream",
          "text": [
            "18/18 [==============================] - 1s 2ms/step - loss: 26.4147\n"
          ]
        },
        {
          "data": {
            "text/plain": [
              "26.41474151611328"
            ]
          },
          "execution_count": 168,
          "metadata": {},
          "output_type": "execute_result"
        }
      ],
      "source": [
        "# Load in best version of model 1 and evaluate on the test data\n",
        "model_1 = tf.keras.models.load_model(\"model_experiments/model_1_lstm/\")\n",
        "model_1.evaluate(test_windows, test_labels)"
      ]
    },
    {
      "cell_type": "code",
      "execution_count": 169,
      "metadata": {},
      "outputs": [
        {
          "name": "stdout",
          "output_type": "stream",
          "text": [
            "18/18 [==============================] - 0s 2ms/step\n"
          ]
        },
        {
          "data": {
            "text/plain": [
              "<tf.Tensor: shape=(10,), dtype=float32, numpy=\n",
              "array([1182.2847, 1178.9097, 1173.3964, 1176.6688, 1179.4697, 1186.5763,\n",
              "       1176.1038, 1194.8727, 1194.0518, 1219.4451], dtype=float32)>"
            ]
          },
          "execution_count": 169,
          "metadata": {},
          "output_type": "execute_result"
        }
      ],
      "source": [
        "# Make predictions with our LSTM model\n",
        "model_1_preds = make_preds(model_1, test_windows)\n",
        "model_1_preds[:10]"
      ]
    },
    {
      "cell_type": "code",
      "execution_count": 170,
      "metadata": {},
      "outputs": [
        {
          "data": {
            "text/plain": [
              "{'mae': 26.414745,\n",
              " 'mse': 1313.9261,\n",
              " 'rmse': 36.24812,\n",
              " 'mape': 1.5452708,\n",
              " 'mase': 1.0923438}"
            ]
          },
          "execution_count": 170,
          "metadata": {},
          "output_type": "execute_result"
        }
      ],
      "source": [
        "# Evaluate model 1 preds\n",
        "model_1_results = evaluate_preds(y_true=tf.squeeze(test_labels),\n",
        "                                 y_pred=model_1_preds)\n",
        "model_1_results"
      ]
    },
    {
      "cell_type": "markdown",
      "metadata": {},
      "source": [
        "### Modifikasi arsitektur"
      ]
    },
    {
      "cell_type": "code",
      "execution_count": 171,
      "metadata": {},
      "outputs": [
        {
          "name": "stdout",
          "output_type": "stream",
          "text": [
            "INFO:tensorflow:Assets written to: model_experiments\\model_2_lstm\\assets\n",
            "INFO:tensorflow:Assets written to: model_experiments\\model_2_lstm\\assets\n",
            "INFO:tensorflow:Assets written to: model_experiments\\model_2_lstm\\assets\n",
            "INFO:tensorflow:Assets written to: model_experiments\\model_2_lstm\\assets\n",
            "INFO:tensorflow:Assets written to: model_experiments\\model_2_lstm\\assets\n",
            "INFO:tensorflow:Assets written to: model_experiments\\model_2_lstm\\assets\n",
            "INFO:tensorflow:Assets written to: model_experiments\\model_2_lstm\\assets\n",
            "INFO:tensorflow:Assets written to: model_experiments\\model_2_lstm\\assets\n",
            "INFO:tensorflow:Assets written to: model_experiments\\model_2_lstm\\assets\n",
            "INFO:tensorflow:Assets written to: model_experiments\\model_2_lstm\\assets\n",
            "INFO:tensorflow:Assets written to: model_experiments\\model_2_lstm\\assets\n",
            "INFO:tensorflow:Assets written to: model_experiments\\model_2_lstm\\assets\n"
          ]
        },
        {
          "data": {
            "text/plain": [
              "<keras.callbacks.History at 0x2404d974ca0>"
            ]
          },
          "execution_count": 171,
          "metadata": {},
          "output_type": "execute_result"
        }
      ],
      "source": [
        "tf.random.set_seed(42)\n",
        "\n",
        "# Let's build an LSTM model with the Functional API\n",
        "inputs = layers.Input(shape=(WINDOW_SIZE))\n",
        "x = layers.Lambda(lambda x: tf.expand_dims(x, axis=1))(inputs) # expand input dimension to be compatible with LSTM\n",
        "# print(x.shape)\n",
        "# x = layers.LSTM(128, activation=\"relu\", return_sequences=True)(x) # this layer will error if the inputs are not the right shape\n",
        "x = layers.LSTM(50, activation=\"relu\")(x) \n",
        "\n",
        "# Add another optional dense layer (you could add more of these to see if they improve model performance)\n",
        "x = layers.Dense(32, activation=\"relu\")(x)\n",
        "\n",
        "output = layers.Dense(HORIZON)(x)\n",
        "model_2 = tf.keras.Model(inputs=inputs, outputs=output, name=\"model_2_lstm\")\n",
        "\n",
        "# Compile model\n",
        "model_2.compile(loss=\"mae\",\n",
        "                optimizer=tf.keras.optimizers.Adam())\n",
        "\n",
        "# Seems when saving the model several warnings are appearing: https://github.com/tensorflow/tensorflow/issues/47554\n",
        "model_2.fit(train_windows,\n",
        "            train_labels,\n",
        "            epochs=100,\n",
        "            verbose=0,\n",
        "            batch_size=128,\n",
        "            validation_data=(test_windows, test_labels),\n",
        "            callbacks=[create_model_checkpoint(model_name=model_2.name)])"
      ]
    },
    {
      "cell_type": "markdown",
      "metadata": {},
      "source": [
        "Model_2_LSTM menambahkan lapisan Dense setelah lapisan LSTM untuk menangkap pola non-linear tambahan yang mungkin ada dalam data."
      ]
    },
    {
      "cell_type": "code",
      "execution_count": 172,
      "metadata": {},
      "outputs": [
        {
          "name": "stdout",
          "output_type": "stream",
          "text": [
            "18/18 [==============================] - 1s 5ms/step - loss: 29.9127\n"
          ]
        },
        {
          "data": {
            "text/plain": [
              "29.91272735595703"
            ]
          },
          "execution_count": 172,
          "metadata": {},
          "output_type": "execute_result"
        }
      ],
      "source": [
        "# Load in best version of model 2 and evaluate on the test data\n",
        "model_2 = tf.keras.models.load_model(\"model_experiments/model_2_lstm/\")\n",
        "model_2.evaluate(test_windows, test_labels)"
      ]
    },
    {
      "cell_type": "code",
      "execution_count": 173,
      "metadata": {},
      "outputs": [
        {
          "name": "stdout",
          "output_type": "stream",
          "text": [
            "18/18 [==============================] - 0s 2ms/step\n"
          ]
        },
        {
          "data": {
            "text/plain": [
              "<tf.Tensor: shape=(10,), dtype=float32, numpy=\n",
              "array([1185.846 , 1186.8976, 1184.7811, 1181.2191, 1182.6981, 1182.6542,\n",
              "       1181.974 , 1184.8237, 1195.9744, 1197.0724], dtype=float32)>"
            ]
          },
          "execution_count": 173,
          "metadata": {},
          "output_type": "execute_result"
        }
      ],
      "source": [
        "# Make predictions with our LSTM model\n",
        "model_2_preds = make_preds(model_2, test_windows)\n",
        "model_2_preds[:10]"
      ]
    },
    {
      "cell_type": "code",
      "execution_count": 174,
      "metadata": {},
      "outputs": [
        {
          "data": {
            "text/plain": [
              "{'mae': 29.912731,\n",
              " 'mse': 1700.6941,\n",
              " 'rmse': 41.23947,\n",
              " 'mape': 1.743804,\n",
              " 'mase': 1.236998}"
            ]
          },
          "execution_count": 174,
          "metadata": {},
          "output_type": "execute_result"
        }
      ],
      "source": [
        "# Evaluate model 2 preds\n",
        "model_2_results = evaluate_preds(y_true=tf.squeeze(test_labels),\n",
        "                                 y_pred=model_2_preds)\n",
        "model_2_results"
      ]
    },
    {
      "cell_type": "code",
      "execution_count": 175,
      "metadata": {},
      "outputs": [
        {
          "name": "stdout",
          "output_type": "stream",
          "text": [
            "INFO:tensorflow:Assets written to: model_experiments\\model_3_lstm\\assets\n",
            "INFO:tensorflow:Assets written to: model_experiments\\model_3_lstm\\assets\n",
            "INFO:tensorflow:Assets written to: model_experiments\\model_3_lstm\\assets\n",
            "INFO:tensorflow:Assets written to: model_experiments\\model_3_lstm\\assets\n"
          ]
        },
        {
          "data": {
            "text/plain": [
              "<keras.callbacks.History at 0x24046988c70>"
            ]
          },
          "execution_count": 175,
          "metadata": {},
          "output_type": "execute_result"
        }
      ],
      "source": [
        "tf.random.set_seed(42)\n",
        "\n",
        "# Let's build an LSTM model with the Functional API\n",
        "inputs = layers.Input(shape=(WINDOW_SIZE))\n",
        "x = layers.Lambda(lambda x: tf.expand_dims(x, axis=1))(inputs) # expand input dimension to be compatible with LSTM\n",
        "# print(x.shape)\n",
        "# x = layers.LSTM(128, activation=\"relu\", return_sequences=True)(x) # this layer will error if the inputs are not the right shape\n",
        "x = layers.LSTM(70, activation=\"relu\")(x) \n",
        "\n",
        "# Add another Dense layer with 32 units and ReLU activation\n",
        "x = layers.Dense(32, activation=\"relu\", kernel_regularizer=regularizers.l2(0.001))(x)\n",
        "\n",
        "output = layers.Dense(HORIZON)(x)\n",
        "model_3 = tf.keras.Model(inputs=inputs, outputs=output, name=\"model_3_lstm\")\n",
        "\n",
        "# Compile model\n",
        "model_3.compile(loss=\"mae\",\n",
        "                optimizer=tf.keras.optimizers.Adam())\n",
        "\n",
        "# Seems when saving the model several warnings are appearing: https://github.com/tensorflow/tensorflow/issues/47554\n",
        "model_3.fit(train_windows,\n",
        "            train_labels,\n",
        "            epochs=100,\n",
        "            verbose=0,\n",
        "            batch_size=128,\n",
        "            validation_data=(test_windows, test_labels),\n",
        "            callbacks=[create_model_checkpoint(model_name=model_3.name),\n",
        "                       tf.keras.callbacks.EarlyStopping(monitor='val_loss', patience=10)])"
      ]
    },
    {
      "cell_type": "markdown",
      "metadata": {},
      "source": [
        "Model_3_LSTM meningkatkan jumlah unit LSTM untuk meningkatkan kapasitas model, menambahkan regularisasi L2 pada lapisan Dense untuk mencegah overfitting, dan menggunakan callback EarlyStopping untuk menghindari overfitting selama pelatihan."
      ]
    },
    {
      "cell_type": "code",
      "execution_count": 176,
      "metadata": {},
      "outputs": [
        {
          "name": "stdout",
          "output_type": "stream",
          "text": [
            "18/18 [==============================] - 0s 2ms/step - loss: 30.1143\n"
          ]
        },
        {
          "data": {
            "text/plain": [
              "30.114288330078125"
            ]
          },
          "execution_count": 176,
          "metadata": {},
          "output_type": "execute_result"
        }
      ],
      "source": [
        "# Load in best version of model 3 and evaluate on the test data\n",
        "model_3 = tf.keras.models.load_model(\"model_experiments/model_3_lstm/\")\n",
        "model_3.evaluate(test_windows, test_labels)"
      ]
    },
    {
      "cell_type": "code",
      "execution_count": 177,
      "metadata": {},
      "outputs": [
        {
          "name": "stdout",
          "output_type": "stream",
          "text": [
            "18/18 [==============================] - 0s 2ms/step\n"
          ]
        },
        {
          "data": {
            "text/plain": [
              "<tf.Tensor: shape=(10,), dtype=float32, numpy=\n",
              "array([1182.5002, 1186.8169, 1158.9583, 1175.7773, 1188.383 , 1190.2898,\n",
              "       1174.6376, 1195.9761, 1203.1985, 1207.792 ], dtype=float32)>"
            ]
          },
          "execution_count": 177,
          "metadata": {},
          "output_type": "execute_result"
        }
      ],
      "source": [
        "# Make predictions with our LSTM model\n",
        "model_3_preds = make_preds(model_3, test_windows)\n",
        "model_3_preds[:10]"
      ]
    },
    {
      "cell_type": "code",
      "execution_count": 178,
      "metadata": {},
      "outputs": [
        {
          "data": {
            "text/plain": [
              "{'mae': 30.100832,\n",
              " 'mse': 1618.3463,\n",
              " 'rmse': 40.228676,\n",
              " 'mape': 1.7567952,\n",
              " 'mase': 1.2447766}"
            ]
          },
          "execution_count": 178,
          "metadata": {},
          "output_type": "execute_result"
        }
      ],
      "source": [
        "# Evaluate model 3 preds\n",
        "model_3_results = evaluate_preds(y_true=tf.squeeze(test_labels),\n",
        "                                 y_pred=model_3_preds)\n",
        "model_3_results"
      ]
    },
    {
      "cell_type": "markdown",
      "metadata": {},
      "source": [
        "### Compare Models"
      ]
    },
    {
      "cell_type": "code",
      "execution_count": 179,
      "metadata": {},
      "outputs": [
        {
          "data": {
            "text/html": [
              "<div>\n",
              "<style scoped>\n",
              "    .dataframe tbody tr th:only-of-type {\n",
              "        vertical-align: middle;\n",
              "    }\n",
              "\n",
              "    .dataframe tbody tr th {\n",
              "        vertical-align: top;\n",
              "    }\n",
              "\n",
              "    .dataframe thead th {\n",
              "        text-align: right;\n",
              "    }\n",
              "</style>\n",
              "<table border=\"1\" class=\"dataframe\">\n",
              "  <thead>\n",
              "    <tr style=\"text-align: right;\">\n",
              "      <th></th>\n",
              "      <th>mae</th>\n",
              "      <th>mse</th>\n",
              "      <th>rmse</th>\n",
              "      <th>mape</th>\n",
              "      <th>mase</th>\n",
              "    </tr>\n",
              "  </thead>\n",
              "  <tbody>\n",
              "    <tr>\n",
              "      <th>model_1_LSTM</th>\n",
              "      <td>26.414745</td>\n",
              "      <td>1313.926147</td>\n",
              "      <td>36.248119</td>\n",
              "      <td>1.545271</td>\n",
              "      <td>1.092344</td>\n",
              "    </tr>\n",
              "    <tr>\n",
              "      <th>model_2_LSTM</th>\n",
              "      <td>29.912731</td>\n",
              "      <td>1700.694092</td>\n",
              "      <td>41.239471</td>\n",
              "      <td>1.743804</td>\n",
              "      <td>1.236998</td>\n",
              "    </tr>\n",
              "    <tr>\n",
              "      <th>model_3_LSTM</th>\n",
              "      <td>30.100832</td>\n",
              "      <td>1618.346313</td>\n",
              "      <td>40.228676</td>\n",
              "      <td>1.756795</td>\n",
              "      <td>1.244777</td>\n",
              "    </tr>\n",
              "  </tbody>\n",
              "</table>\n",
              "</div>"
            ],
            "text/plain": [
              "                    mae          mse       rmse      mape      mase\n",
              "model_1_LSTM  26.414745  1313.926147  36.248119  1.545271  1.092344\n",
              "model_2_LSTM  29.912731  1700.694092  41.239471  1.743804  1.236998\n",
              "model_3_LSTM  30.100832  1618.346313  40.228676  1.756795  1.244777"
            ]
          },
          "execution_count": 179,
          "metadata": {},
          "output_type": "execute_result"
        }
      ],
      "source": [
        "model_results = pd.DataFrame({\"model_1_LSTM\": model_1_results,\n",
        "                              \"model_2_LSTM\": model_2_results,\n",
        "                              \"model_3_LSTM\": model_3_results,\n",
        "                              }).T\n",
        "model_results.head(3)"
      ]
    },
    {
      "cell_type": "markdown",
      "metadata": {},
      "source": [
        "Didapat bahwa Model_1 memiliki performa paling baik dengan nilai MAE, RMSE, dan MAPE yang paling kecil dibanding ketiga model. Model 1 memiliki nilai MAE sebesar 26.4 yang merupakan rata - rata kesalahan dari nilai prediksi dengan nilai aktual, berarti prediksi model meleset sebesar 26.4 dari data aslinya. Model memiliki nilai RMSE yang merupakan akar kuadrat dari MSE sebesar 36.2 dan menggambarkan kesalahan model secara umum. Model memiliki nilai MAPE yang merupakan presentase dari kesalahan nilai prediksi dengan nilai aktual sebesar 1.6%."
      ]
    },
    {
      "cell_type": "markdown",
      "metadata": {},
      "source": [
        "## Dataset CSCO.csv"
      ]
    },
    {
      "cell_type": "markdown",
      "metadata": {},
      "source": [
        "### a. Eksplorasi Data"
      ]
    },
    {
      "cell_type": "code",
      "execution_count": 103,
      "metadata": {
        "colab": {
          "base_uri": "https://localhost:8080/",
          "height": 235
        },
        "id": "5FOrshVX_dUE",
        "outputId": "cac2d499-37ce-42d1-b0e6-ba3562918962"
      },
      "outputs": [
        {
          "data": {
            "text/html": [
              "<div>\n",
              "<style scoped>\n",
              "    .dataframe tbody tr th:only-of-type {\n",
              "        vertical-align: middle;\n",
              "    }\n",
              "\n",
              "    .dataframe tbody tr th {\n",
              "        vertical-align: top;\n",
              "    }\n",
              "\n",
              "    .dataframe thead th {\n",
              "        text-align: right;\n",
              "    }\n",
              "</style>\n",
              "<table border=\"1\" class=\"dataframe\">\n",
              "  <thead>\n",
              "    <tr style=\"text-align: right;\">\n",
              "      <th></th>\n",
              "      <th>Open</th>\n",
              "      <th>High</th>\n",
              "      <th>Low</th>\n",
              "      <th>Close</th>\n",
              "      <th>Adj Close</th>\n",
              "      <th>Volume</th>\n",
              "    </tr>\n",
              "    <tr>\n",
              "      <th>Date</th>\n",
              "      <th></th>\n",
              "      <th></th>\n",
              "      <th></th>\n",
              "      <th></th>\n",
              "      <th></th>\n",
              "      <th></th>\n",
              "    </tr>\n",
              "  </thead>\n",
              "  <tbody>\n",
              "    <tr>\n",
              "      <th>1990-02-16</th>\n",
              "      <td>0.0</td>\n",
              "      <td>0.079861</td>\n",
              "      <td>0.073785</td>\n",
              "      <td>0.077257</td>\n",
              "      <td>0.059806</td>\n",
              "      <td>940636800</td>\n",
              "    </tr>\n",
              "    <tr>\n",
              "      <th>1990-02-20</th>\n",
              "      <td>0.0</td>\n",
              "      <td>0.079861</td>\n",
              "      <td>0.074653</td>\n",
              "      <td>0.079861</td>\n",
              "      <td>0.061822</td>\n",
              "      <td>151862400</td>\n",
              "    </tr>\n",
              "    <tr>\n",
              "      <th>1990-02-21</th>\n",
              "      <td>0.0</td>\n",
              "      <td>0.078993</td>\n",
              "      <td>0.075521</td>\n",
              "      <td>0.078125</td>\n",
              "      <td>0.060478</td>\n",
              "      <td>70531200</td>\n",
              "    </tr>\n",
              "    <tr>\n",
              "      <th>1990-02-22</th>\n",
              "      <td>0.0</td>\n",
              "      <td>0.081597</td>\n",
              "      <td>0.078993</td>\n",
              "      <td>0.078993</td>\n",
              "      <td>0.061150</td>\n",
              "      <td>45216000</td>\n",
              "    </tr>\n",
              "    <tr>\n",
              "      <th>1990-02-23</th>\n",
              "      <td>0.0</td>\n",
              "      <td>0.079861</td>\n",
              "      <td>0.078125</td>\n",
              "      <td>0.078559</td>\n",
              "      <td>0.060814</td>\n",
              "      <td>44697600</td>\n",
              "    </tr>\n",
              "  </tbody>\n",
              "</table>\n",
              "</div>"
            ],
            "text/plain": [
              "            Open      High       Low     Close  Adj Close     Volume\n",
              "Date                                                                \n",
              "1990-02-16   0.0  0.079861  0.073785  0.077257   0.059806  940636800\n",
              "1990-02-20   0.0  0.079861  0.074653  0.079861   0.061822  151862400\n",
              "1990-02-21   0.0  0.078993  0.075521  0.078125   0.060478   70531200\n",
              "1990-02-22   0.0  0.081597  0.078993  0.078993   0.061150   45216000\n",
              "1990-02-23   0.0  0.079861  0.078125  0.078559   0.060814   44697600"
            ]
          },
          "execution_count": 103,
          "metadata": {},
          "output_type": "execute_result"
        }
      ],
      "source": [
        "# Import with pandas\n",
        "import pandas as pd\n",
        "# Parse dates and set date column to index\n",
        "df = pd.read_csv(\"CSCO.csv\",\n",
        "                 parse_dates=[\"Date\"],\n",
        "                 index_col=[\"Date\"]) # parse the date column (tell pandas column 1 is a datetime)\n",
        "df.head()"
      ]
    },
    {
      "cell_type": "code",
      "execution_count": 104,
      "metadata": {
        "colab": {
          "base_uri": "https://localhost:8080/"
        },
        "id": "Z-YoeINjCzJ_",
        "outputId": "d4ac2c82-9f59-438a-c749-fe418b04764d"
      },
      "outputs": [
        {
          "name": "stdout",
          "output_type": "stream",
          "text": [
            "<class 'pandas.core.frame.DataFrame'>\n",
            "DatetimeIndex: 7589 entries, 1990-02-16 to 2020-04-01\n",
            "Data columns (total 6 columns):\n",
            " #   Column     Non-Null Count  Dtype  \n",
            "---  ------     --------------  -----  \n",
            " 0   Open       7589 non-null   float64\n",
            " 1   High       7589 non-null   float64\n",
            " 2   Low        7589 non-null   float64\n",
            " 3   Close      7589 non-null   float64\n",
            " 4   Adj Close  7589 non-null   float64\n",
            " 5   Volume     7589 non-null   int64  \n",
            "dtypes: float64(5), int64(1)\n",
            "memory usage: 415.0 KB\n"
          ]
        }
      ],
      "source": [
        "df.info()"
      ]
    },
    {
      "cell_type": "code",
      "execution_count": 105,
      "metadata": {
        "colab": {
          "base_uri": "https://localhost:8080/"
        },
        "id": "XP3cN0uvlxhi",
        "outputId": "39e39718-290e-4d99-f62a-8ec042714e65"
      },
      "outputs": [
        {
          "data": {
            "text/plain": [
              "7589"
            ]
          },
          "execution_count": 105,
          "metadata": {},
          "output_type": "execute_result"
        }
      ],
      "source": [
        "# How many samples do we have?\n",
        "len(df)"
      ]
    },
    {
      "cell_type": "code",
      "execution_count": 106,
      "metadata": {
        "colab": {
          "base_uri": "https://localhost:8080/",
          "height": 235
        },
        "id": "QxoNCv2NCuLY",
        "outputId": "0fce77d2-7d89-4c68-c26b-c7b6750efc44"
      },
      "outputs": [
        {
          "data": {
            "text/html": [
              "<div>\n",
              "<style scoped>\n",
              "    .dataframe tbody tr th:only-of-type {\n",
              "        vertical-align: middle;\n",
              "    }\n",
              "\n",
              "    .dataframe tbody tr th {\n",
              "        vertical-align: top;\n",
              "    }\n",
              "\n",
              "    .dataframe thead th {\n",
              "        text-align: right;\n",
              "    }\n",
              "</style>\n",
              "<table border=\"1\" class=\"dataframe\">\n",
              "  <thead>\n",
              "    <tr style=\"text-align: right;\">\n",
              "      <th></th>\n",
              "      <th>Close</th>\n",
              "    </tr>\n",
              "    <tr>\n",
              "      <th>Date</th>\n",
              "      <th></th>\n",
              "    </tr>\n",
              "  </thead>\n",
              "  <tbody>\n",
              "    <tr>\n",
              "      <th>1990-02-16</th>\n",
              "      <td>0.077257</td>\n",
              "    </tr>\n",
              "    <tr>\n",
              "      <th>1990-02-20</th>\n",
              "      <td>0.079861</td>\n",
              "    </tr>\n",
              "    <tr>\n",
              "      <th>1990-02-21</th>\n",
              "      <td>0.078125</td>\n",
              "    </tr>\n",
              "    <tr>\n",
              "      <th>1990-02-22</th>\n",
              "      <td>0.078993</td>\n",
              "    </tr>\n",
              "    <tr>\n",
              "      <th>1990-02-23</th>\n",
              "      <td>0.078559</td>\n",
              "    </tr>\n",
              "  </tbody>\n",
              "</table>\n",
              "</div>"
            ],
            "text/plain": [
              "               Close\n",
              "Date                \n",
              "1990-02-16  0.077257\n",
              "1990-02-20  0.079861\n",
              "1990-02-21  0.078125\n",
              "1990-02-22  0.078993\n",
              "1990-02-23  0.078559"
            ]
          },
          "execution_count": 106,
          "metadata": {},
          "output_type": "execute_result"
        }
      ],
      "source": [
        "# Only want closing price for each day\n",
        "cisco_prices = pd.DataFrame(df[\"Close\"])\n",
        "cisco_prices.head()"
      ]
    },
    {
      "cell_type": "code",
      "execution_count": 107,
      "metadata": {
        "colab": {
          "base_uri": "https://localhost:8080/",
          "height": 460
        },
        "id": "CfkhZhmCEyUe",
        "outputId": "c49b5f77-3059-416d-8a13-9ae7f2768ebf"
      },
      "outputs": [
        {
          "data": {
            "image/png": "[encoded data removed]",
            "text/plain": [
              "<Figure size 1000x700 with 1 Axes>"
            ]
          },
          "metadata": {},
          "output_type": "display_data"
        }
      ],
      "source": [
        "import matplotlib.pyplot as plt\n",
        "amazon_prices.plot(figsize=(10, 7))\n",
        "plt.ylabel(\"CISCO Price\")\n",
        "plt.title(\"Price of cisco from 1992 to 2020\", fontsize=16)\n",
        "plt.legend(fontsize=14);"
      ]
    },
    {
      "cell_type": "markdown",
      "metadata": {},
      "source": [
        "#### Bagi data menjadi dua bagian input dan output dengan window size = 5 [dari hari senin s.d jumat] dan horizon = 1 [hari senin saja]"
      ]
    },
    {
      "cell_type": "code",
      "execution_count": 108,
      "metadata": {},
      "outputs": [
        {
          "data": {
            "text/plain": [
              "(array(['1990-02-16T00:00:00.000000000', '1990-02-20T00:00:00.000000000',\n",
              "        '1990-02-21T00:00:00.000000000', '1990-02-22T00:00:00.000000000',\n",
              "        '1990-02-23T00:00:00.000000000', '1990-02-26T00:00:00.000000000',\n",
              "        '1990-02-27T00:00:00.000000000', '1990-02-28T00:00:00.000000000',\n",
              "        '1990-03-01T00:00:00.000000000', '1990-03-02T00:00:00.000000000'],\n",
              "       dtype='datetime64[ns]'),\n",
              " array([0.07725695, 0.07986111, 0.078125  , 0.07899305, 0.07855903,\n",
              "        0.07638889, 0.078125  , 0.08072916, 0.07986111, 0.08072916]))"
            ]
          },
          "execution_count": 108,
          "metadata": {},
          "output_type": "execute_result"
        }
      ],
      "source": [
        "# Get amazon date array\n",
        "timesteps = cisco_prices.index.to_numpy()\n",
        "prices = cisco_prices[\"Close\"].to_numpy()\n",
        "\n",
        "timesteps[:10], prices[:10]"
      ]
    },
    {
      "cell_type": "code",
      "execution_count": 109,
      "metadata": {
        "id": "LibzWQXM2ib-"
      },
      "outputs": [],
      "source": [
        "WINDOW_SIZE = 5 # dari hari senin s.d jumat\n",
        "HORIZON = 1 # hari senin saja"
      ]
    },
    {
      "cell_type": "code",
      "execution_count": 110,
      "metadata": {
        "id": "zV8pv5K_x81E"
      },
      "outputs": [],
      "source": [
        "# Create function to label windowed data\n",
        "def get_labelled_windows(x, horizon=5):\n",
        "  \"\"\"\n",
        "  Creates labels for windowed dataset.\n",
        "\n",
        "  E.g. if horizon=1 (default)\n",
        "  Input: [1, 2, 3, 4, 5, 6] -> Output: ([1, 2, 3, 4, 5], [6])\n",
        "  \"\"\"\n",
        "  return x[:, :-horizon], x[:, -horizon:]"
      ]
    },
    {
      "cell_type": "code",
      "execution_count": 111,
      "metadata": {
        "colab": {
          "base_uri": "https://localhost:8080/"
        },
        "id": "ejJ9vCyKff8F",
        "outputId": "805b4459-9f5e-4311-9592-41efefd22546"
      },
      "outputs": [
        {
          "name": "stdout",
          "output_type": "stream",
          "text": [
            "Window: [1 2 3 4 5] -> Label: 6\n"
          ]
        }
      ],
      "source": [
        "# Test out the window labelling function\n",
        "test_window, test_label = get_labelled_windows(tf.expand_dims(tf.range(6)+1, axis=0), horizon=HORIZON)\n",
        "print(f\"Window: {tf.squeeze(test_window).numpy()} -> Label: {tf.squeeze(test_label).numpy()}\")"
      ]
    },
    {
      "cell_type": "code",
      "execution_count": 112,
      "metadata": {
        "colab": {
          "base_uri": "https://localhost:8080/"
        },
        "id": "u7Yc3V7fc1UG",
        "outputId": "41dce6b2-d01b-4943-f1c8-a113c256bc2d"
      },
      "outputs": [
        {
          "data": {
            "text/plain": [
              "(7584, 7584)"
            ]
          },
          "execution_count": 112,
          "metadata": {},
          "output_type": "execute_result"
        }
      ],
      "source": [
        "full_windows, full_labels = make_windows(prices, window_size=WINDOW_SIZE, horizon=HORIZON)\n",
        "len(full_windows), len(full_labels)"
      ]
    },
    {
      "cell_type": "code",
      "execution_count": 113,
      "metadata": {
        "colab": {
          "base_uri": "https://localhost:8080/"
        },
        "id": "U1P-MT4CkYta",
        "outputId": "a00a6bb8-de3e-4861-84bc-442441b09635"
      },
      "outputs": [
        {
          "name": "stdout",
          "output_type": "stream",
          "text": [
            "Window: [0.07725695 0.07986111 0.078125   0.07899305 0.07855903] -> Label: [0.07638889]\n",
            "Window: [0.07986111 0.078125   0.07899305 0.07855903 0.07638889] -> Label: [0.078125]\n",
            "Window: [0.078125   0.07899305 0.07855903 0.07638889 0.078125  ] -> Label: [0.08072916]\n"
          ]
        }
      ],
      "source": [
        "# View the first 3 windows/labels\n",
        "for i in range(3):\n",
        "  print(f\"Window: {full_windows[i]} -> Label: {full_labels[i]}\")"
      ]
    },
    {
      "cell_type": "code",
      "execution_count": 114,
      "metadata": {},
      "outputs": [
        {
          "name": "stdout",
          "output_type": "stream",
          "text": [
            "Train set: 6071 data points\n",
            "Validation set: 758 data points\n",
            "Test set: 760 data points\n"
          ]
        }
      ],
      "source": [
        "# Menentukan ukuran split untuk masing-masing set\n",
        "train_size = int(0.8 * len(prices))  # 80% untuk training\n",
        "val_size = int(0.1 * len(prices))   # 10% untuk validation\n",
        "test_size = len(prices) - train_size - val_size  # Sisa untuk testing\n",
        "\n",
        "# Membagi data menjadi train, validation, dan test sets\n",
        "X_train, y_train = timesteps[:train_size], prices[:train_size]\n",
        "X_val, y_val = timesteps[train_size:train_size+val_size], prices[train_size:train_size+val_size]\n",
        "X_test, y_test = timesteps[train_size+val_size:], prices[train_size+val_size:]\n",
        "\n",
        "# Memeriksa panjang masing-masing set\n",
        "print(f\"Train set: {len(X_train)} data points\")\n",
        "print(f\"Validation set: {len(X_val)} data points\")\n",
        "print(f\"Test set: {len(X_test)} data points\")"
      ]
    },
    {
      "cell_type": "code",
      "execution_count": 115,
      "metadata": {},
      "outputs": [
        {
          "data": {
            "image/png": "[encoded data removed]",
            "text/plain": [
              "<Figure size 1000x700 with 1 Axes>"
            ]
          },
          "metadata": {},
          "output_type": "display_data"
        }
      ],
      "source": [
        "# Plot correctly made splits\n",
        "plt.figure(figsize=(10, 7))\n",
        "plt.scatter(X_train, y_train, s=5, label=\"Train data\")\n",
        "plt.scatter(X_test, y_test, s=5, label=\"Test data\")\n",
        "plt.xlabel(\"Date\")\n",
        "plt.ylabel(\"amzn Price\")\n",
        "plt.legend(fontsize=14)\n",
        "plt.show();"
      ]
    },
    {
      "cell_type": "code",
      "execution_count": 116,
      "metadata": {
        "colab": {
          "base_uri": "https://localhost:8080/"
        },
        "id": "z_xY8T7HEaoU",
        "outputId": "d31a4535-f5b7-4ee6-92bd-a056a0101794"
      },
      "outputs": [
        {
          "data": {
            "text/plain": [
              "(6071, 758, 755, 6071, 758, 755)"
            ]
          },
          "execution_count": 116,
          "metadata": {},
          "output_type": "execute_result"
        }
      ],
      "source": [
        "train_windows, val_windows, test_windows, train_labels, val_labels, test_labels = make_train_test_splits(full_windows, full_labels)\n",
        "len(train_windows), len(val_windows), len(test_windows), len(train_labels), len(val_labels), len(test_labels)"
      ]
    },
    {
      "cell_type": "code",
      "execution_count": 117,
      "metadata": {},
      "outputs": [
        {
          "data": {
            "text/plain": [
              "((6071, 5), (6071, 1))"
            ]
          },
          "execution_count": 117,
          "metadata": {},
          "output_type": "execute_result"
        }
      ],
      "source": [
        "train_windows.shape, train_labels.shape"
      ]
    },
    {
      "cell_type": "code",
      "execution_count": 118,
      "metadata": {
        "colab": {
          "base_uri": "https://localhost:8080/"
        },
        "id": "DDgyT7Gix1fH",
        "outputId": "ca96d4e6-56f0-4355-d2bb-6ad981fc3dae"
      },
      "outputs": [
        {
          "data": {
            "text/plain": [
              "(array([[0.07725695, 0.07986111, 0.078125  , 0.07899305, 0.07855903],\n",
              "        [0.07986111, 0.078125  , 0.07899305, 0.07855903, 0.07638889],\n",
              "        [0.078125  , 0.07899305, 0.07855903, 0.07638889, 0.078125  ],\n",
              "        [0.07899305, 0.07855903, 0.07638889, 0.078125  , 0.08072916],\n",
              "        [0.07855903, 0.07638889, 0.078125  , 0.08072916, 0.07986111]]),\n",
              " array([[0.07638889],\n",
              "        [0.078125  ],\n",
              "        [0.08072916],\n",
              "        [0.07986111],\n",
              "        [0.08072916]]))"
            ]
          },
          "execution_count": 118,
          "metadata": {},
          "output_type": "execute_result"
        }
      ],
      "source": [
        "train_windows[:5], train_labels[:5]"
      ]
    },
    {
      "cell_type": "code",
      "execution_count": 119,
      "metadata": {
        "colab": {
          "base_uri": "https://localhost:8080/"
        },
        "id": "TkF0HmvadHBB",
        "outputId": "a257bf12-cd34-4843-e517-fc6863fcdd15"
      },
      "outputs": [
        {
          "data": {
            "text/plain": [
              "False"
            ]
          },
          "execution_count": 119,
          "metadata": {},
          "output_type": "execute_result"
        }
      ],
      "source": [
        "# Check to see if same (accounting for horizon and window size)\n",
        "np.array_equal(np.squeeze(train_labels[:-HORIZON-1]), y_train[WINDOW_SIZE:])"
      ]
    },
    {
      "cell_type": "markdown",
      "metadata": {
        "id": "pZ2s0Rx0rZjE"
      },
      "source": [
        "### Modelling: RNN (LSTM)"
      ]
    },
    {
      "cell_type": "code",
      "execution_count": 120,
      "metadata": {
        "colab": {
          "base_uri": "https://localhost:8080/"
        },
        "id": "a6YFL_b-rZrt",
        "outputId": "96a90e42-069a-459a-b140-6191cab11eb1"
      },
      "outputs": [
        {
          "name": "stdout",
          "output_type": "stream",
          "text": [
            "INFO:tensorflow:Assets written to: model_experiments\\model_1CSCO_lstm\\assets\n",
            "INFO:tensorflow:Assets written to: model_experiments\\model_1CSCO_lstm\\assets\n",
            "INFO:tensorflow:Assets written to: model_experiments\\model_1CSCO_lstm\\assets\n",
            "INFO:tensorflow:Assets written to: model_experiments\\model_1CSCO_lstm\\assets\n",
            "INFO:tensorflow:Assets written to: model_experiments\\model_1CSCO_lstm\\assets\n",
            "INFO:tensorflow:Assets written to: model_experiments\\model_1CSCO_lstm\\assets\n",
            "INFO:tensorflow:Assets written to: model_experiments\\model_1CSCO_lstm\\assets\n",
            "INFO:tensorflow:Assets written to: model_experiments\\model_1CSCO_lstm\\assets\n",
            "INFO:tensorflow:Assets written to: model_experiments\\model_1CSCO_lstm\\assets\n",
            "INFO:tensorflow:Assets written to: model_experiments\\model_1CSCO_lstm\\assets\n",
            "INFO:tensorflow:Assets written to: model_experiments\\model_1CSCO_lstm\\assets\n",
            "INFO:tensorflow:Assets written to: model_experiments\\model_1CSCO_lstm\\assets\n",
            "INFO:tensorflow:Assets written to: model_experiments\\model_1CSCO_lstm\\assets\n",
            "INFO:tensorflow:Assets written to: model_experiments\\model_1CSCO_lstm\\assets\n",
            "INFO:tensorflow:Assets written to: model_experiments\\model_1CSCO_lstm\\assets\n",
            "INFO:tensorflow:Assets written to: model_experiments\\model_1CSCO_lstm\\assets\n",
            "INFO:tensorflow:Assets written to: model_experiments\\model_1CSCO_lstm\\assets\n",
            "INFO:tensorflow:Assets written to: model_experiments\\model_1CSCO_lstm\\assets\n",
            "INFO:tensorflow:Assets written to: model_experiments\\model_1CSCO_lstm\\assets\n"
          ]
        },
        {
          "data": {
            "text/plain": [
              "<keras.callbacks.History at 0x24037f1dcf0>"
            ]
          },
          "execution_count": 120,
          "metadata": {},
          "output_type": "execute_result"
        }
      ],
      "source": [
        "from tensorflow.keras import layers, regularizers\n",
        "tf.random.set_seed(42)\n",
        "tf.random.set_seed(42)\n",
        "\n",
        "# Let's build an LSTM model with the Functional API\n",
        "inputs = layers.Input(shape=(WINDOW_SIZE))\n",
        "x = layers.Lambda(lambda x: tf.expand_dims(x, axis=1))(inputs) # expand input dimension to be compatible with LSTM\n",
        "# print(x.shape)\n",
        "# x = layers.LSTM(128, activation=\"relu\", return_sequences=True)(x) # this layer will error if the inputs are not the right shape\n",
        "x = layers.LSTM(50, activation=\"relu\")(x) \n",
        "\n",
        "# x = layers.Dense(32, activation=\"relu\")(x)\n",
        "output = layers.Dense(HORIZON)(x)\n",
        "model_1CSCO = tf.keras.Model(inputs=inputs, outputs=output, name=\"model_1CSCO_lstm\")\n",
        "\n",
        "# Compile model\n",
        "model_1CSCO.compile(loss=\"mae\",\n",
        "                optimizer=tf.keras.optimizers.Adam())\n",
        "\n",
        "# Seems when saving the model several warnings are appearing: https://github.com/tensorflow/tensorflow/issues/47554\n",
        "model_1CSCO.fit(train_windows,\n",
        "            train_labels,\n",
        "            epochs=100,\n",
        "            verbose=0,\n",
        "            batch_size=128,\n",
        "            validation_data=(test_windows, test_labels),\n",
        "            callbacks=[create_model_checkpoint(model_name=model_1CSCO.name)])"
      ]
    },
    {
      "cell_type": "code",
      "execution_count": 121,
      "metadata": {
        "colab": {
          "base_uri": "https://localhost:8080/"
        },
        "id": "cOpHqmEtSsNw",
        "outputId": "8071fad7-885c-40d6-a601-0dd333aab6e1"
      },
      "outputs": [
        {
          "name": "stdout",
          "output_type": "stream",
          "text": [
            "24/24 [==============================] - 1s 3ms/step - loss: 0.5166\n"
          ]
        },
        {
          "data": {
            "text/plain": [
              "0.5165653824806213"
            ]
          },
          "execution_count": 121,
          "metadata": {},
          "output_type": "execute_result"
        }
      ],
      "source": [
        "# Load in best version of model 1 and evaluate on the test data\n",
        "model_1CSCO = tf.keras.models.load_model(\"model_experiments/model_1CSCO_lstm/\")\n",
        "model_1CSCO.evaluate(test_windows, test_labels)"
      ]
    },
    {
      "cell_type": "code",
      "execution_count": 122,
      "metadata": {
        "colab": {
          "base_uri": "https://localhost:8080/"
        },
        "id": "yfG11v_51UWa",
        "outputId": "764915f3-48c2-4e64-b8a3-42867ea9eb0b"
      },
      "outputs": [
        {
          "name": "stdout",
          "output_type": "stream",
          "text": [
            "24/24 [==============================] - 0s 3ms/step\n"
          ]
        },
        {
          "data": {
            "text/plain": [
              "<tf.Tensor: shape=(10,), dtype=float32, numpy=\n",
              "array([33.859978, 33.646538, 33.484795, 33.115387, 33.128036, 33.033745,\n",
              "       33.03655 , 32.988865, 32.698418, 32.50223 ], dtype=float32)>"
            ]
          },
          "execution_count": 122,
          "metadata": {},
          "output_type": "execute_result"
        }
      ],
      "source": [
        "# Make predictions with our LSTM model\n",
        "model_1CSCO_preds = make_preds(model_1CSCO, test_windows)\n",
        "model_1CSCO_preds[:10]"
      ]
    },
    {
      "cell_type": "code",
      "execution_count": 123,
      "metadata": {
        "colab": {
          "base_uri": "https://localhost:8080/"
        },
        "id": "sVv5Kg5N1axK",
        "outputId": "ef27748e-7980-4e94-af5a-b9f89840840a"
      },
      "outputs": [
        {
          "data": {
            "text/plain": [
              "{'mae': 0.51656544,\n",
              " 'mse': 0.62374735,\n",
              " 'rmse': 0.78977674,\n",
              " 'mape': 1.186375,\n",
              " 'mase': 1.0077631}"
            ]
          },
          "execution_count": 123,
          "metadata": {},
          "output_type": "execute_result"
        }
      ],
      "source": [
        "# Evaluate model 1 preds\n",
        "model_1CSCO_results = evaluate_preds(y_true=tf.squeeze(test_labels),\n",
        "                                 y_pred=model_1CSCO_preds)\n",
        "model_1CSCO_results"
      ]
    },
    {
      "cell_type": "markdown",
      "metadata": {},
      "source": [
        "### Modifikasi arsitektur"
      ]
    },
    {
      "cell_type": "code",
      "execution_count": 124,
      "metadata": {},
      "outputs": [
        {
          "name": "stdout",
          "output_type": "stream",
          "text": [
            "INFO:tensorflow:Assets written to: model_experiments\\model_2CSCO_lstm\\assets\n",
            "INFO:tensorflow:Assets written to: model_experiments\\model_2CSCO_lstm\\assets\n",
            "INFO:tensorflow:Assets written to: model_experiments\\model_2CSCO_lstm\\assets\n",
            "INFO:tensorflow:Assets written to: model_experiments\\model_2CSCO_lstm\\assets\n",
            "INFO:tensorflow:Assets written to: model_experiments\\model_2CSCO_lstm\\assets\n",
            "INFO:tensorflow:Assets written to: model_experiments\\model_2CSCO_lstm\\assets\n",
            "INFO:tensorflow:Assets written to: model_experiments\\model_2CSCO_lstm\\assets\n"
          ]
        },
        {
          "data": {
            "text/plain": [
              "<keras.callbacks.History at 0x2404583ee00>"
            ]
          },
          "execution_count": 124,
          "metadata": {},
          "output_type": "execute_result"
        }
      ],
      "source": [
        "tf.random.set_seed(42)\n",
        "\n",
        "# Let's build an LSTM model with the Functional API\n",
        "inputs = layers.Input(shape=(WINDOW_SIZE))\n",
        "x = layers.Lambda(lambda x: tf.expand_dims(x, axis=1))(inputs) # expand input dimension to be compatible with LSTM\n",
        "# print(x.shape)\n",
        "# x = layers.LSTM(128, activation=\"relu\", return_sequences=True)(x) # this layer will error if the inputs are not the right shape\n",
        "x = layers.LSTM(50, activation=\"relu\")(x) \n",
        "\n",
        "# Add another optional dense layer (you could add more of these to see if they improve model performance)\n",
        "x = layers.Dense(32, activation=\"relu\")(x)\n",
        "\n",
        "output = layers.Dense(HORIZON)(x)\n",
        "model_2CSCO = tf.keras.Model(inputs=inputs, outputs=output, name=\"model_2CSCO_lstm\")\n",
        "\n",
        "# Compile model\n",
        "model_2CSCO.compile(loss=\"mae\",\n",
        "                optimizer=tf.keras.optimizers.Adam())\n",
        "\n",
        "# Seems when saving the model several warnings are appearing: https://github.com/tensorflow/tensorflow/issues/47554\n",
        "model_2CSCO.fit(train_windows,\n",
        "            train_labels,\n",
        "            epochs=100,\n",
        "            verbose=0,\n",
        "            batch_size=128,\n",
        "            validation_data=(test_windows, test_labels),\n",
        "            callbacks=[create_model_checkpoint(model_name=model_2CSCO.name)])"
      ]
    },
    {
      "cell_type": "code",
      "execution_count": 125,
      "metadata": {},
      "outputs": [
        {
          "name": "stdout",
          "output_type": "stream",
          "text": [
            "24/24 [==============================] - 1s 5ms/step - loss: 0.5161\n"
          ]
        },
        {
          "data": {
            "text/plain": [
              "0.5161158442497253"
            ]
          },
          "execution_count": 125,
          "metadata": {},
          "output_type": "execute_result"
        }
      ],
      "source": [
        "# Load in best version of model 2 and evaluate on the test data\n",
        "model_2CSCO= tf.keras.models.load_model(\"model_experiments/model_2CSCO_lstm/\")\n",
        "model_2CSCO.evaluate(test_windows, test_labels)"
      ]
    },
    {
      "cell_type": "code",
      "execution_count": 126,
      "metadata": {},
      "outputs": [
        {
          "name": "stdout",
          "output_type": "stream",
          "text": [
            "24/24 [==============================] - 1s 5ms/step\n"
          ]
        },
        {
          "data": {
            "text/plain": [
              "<tf.Tensor: shape=(10,), dtype=float32, numpy=\n",
              "array([33.815865, 33.62234 , 33.46224 , 33.04981 , 33.097595, 32.97559 ,\n",
              "       33.041664, 32.957428, 32.677063, 32.467087], dtype=float32)>"
            ]
          },
          "execution_count": 126,
          "metadata": {},
          "output_type": "execute_result"
        }
      ],
      "source": [
        "# Make predictions with our LSTM model\n",
        "model_2CSCO_preds = make_preds(model_2CSCO, test_windows)\n",
        "model_2CSCO_preds[:10]"
      ]
    },
    {
      "cell_type": "code",
      "execution_count": 127,
      "metadata": {},
      "outputs": [
        {
          "data": {
            "text/plain": [
              "{'mae': 0.51611584,\n",
              " 'mse': 0.6154679,\n",
              " 'rmse': 0.78451765,\n",
              " 'mape': 1.1833951,\n",
              " 'mase': 1.006886}"
            ]
          },
          "execution_count": 127,
          "metadata": {},
          "output_type": "execute_result"
        }
      ],
      "source": [
        "# Evaluate model 2 preds\n",
        "model_2CSCO_results = evaluate_preds(y_true=tf.squeeze(test_labels),\n",
        "                                 y_pred=model_2CSCO_preds)\n",
        "model_2CSCO_results"
      ]
    },
    {
      "cell_type": "code",
      "execution_count": 128,
      "metadata": {},
      "outputs": [
        {
          "name": "stdout",
          "output_type": "stream",
          "text": [
            "INFO:tensorflow:Assets written to: model_experiments\\model_3CSCO_lstm\\assets\n",
            "INFO:tensorflow:Assets written to: model_experiments\\model_3CSCO_lstm\\assets\n",
            "INFO:tensorflow:Assets written to: model_experiments\\model_3CSCO_lstm\\assets\n",
            "INFO:tensorflow:Assets written to: model_experiments\\model_3CSCO_lstm\\assets\n",
            "INFO:tensorflow:Assets written to: model_experiments\\model_3CSCO_lstm\\assets\n",
            "INFO:tensorflow:Assets written to: model_experiments\\model_3CSCO_lstm\\assets\n",
            "INFO:tensorflow:Assets written to: model_experiments\\model_3CSCO_lstm\\assets\n",
            "INFO:tensorflow:Assets written to: model_experiments\\model_3CSCO_lstm\\assets\n",
            "INFO:tensorflow:Assets written to: model_experiments\\model_3CSCO_lstm\\assets\n",
            "INFO:tensorflow:Assets written to: model_experiments\\model_3CSCO_lstm\\assets\n",
            "INFO:tensorflow:Assets written to: model_experiments\\model_3CSCO_lstm\\assets\n"
          ]
        },
        {
          "data": {
            "text/plain": [
              "<keras.callbacks.History at 0x2403fb4f640>"
            ]
          },
          "execution_count": 128,
          "metadata": {},
          "output_type": "execute_result"
        }
      ],
      "source": [
        "from tensorflow.keras import layers, regularizers\n",
        "tf.random.set_seed(42)\n",
        "\n",
        "# Let's build an LSTM model with the Functional API\n",
        "inputs = layers.Input(shape=(WINDOW_SIZE))\n",
        "x = layers.Lambda(lambda x: tf.expand_dims(x, axis=1))(inputs) # expand input dimension to be compatible with LSTM\n",
        "# print(x.shape)\n",
        "# x = layers.LSTM(128, activation=\"relu\", return_sequences=True)(x) # this layer will error if the inputs are not the right shape\n",
        "x = layers.LSTM(70, activation=\"relu\")(x) \n",
        "\n",
        "# Add another Dense layer with 32 units and ReLU activation\n",
        "x = layers.Dense(32, activation=\"relu\", kernel_regularizer=regularizers.l2(0.001))(x)\n",
        "\n",
        "output = layers.Dense(HORIZON)(x)\n",
        "model_3CSCO = tf.keras.Model(inputs=inputs, outputs=output, name=\"model_3CSCO_lstm\")\n",
        "\n",
        "# Compile model\n",
        "model_3CSCO.compile(loss=\"mae\",\n",
        "                optimizer=tf.keras.optimizers.Adam())\n",
        "\n",
        "# Seems when saving the model several warnings are appearing: https://github.com/tensorflow/tensorflow/issues/47554\n",
        "model_3CSCO.fit(train_windows,\n",
        "            train_labels,\n",
        "            epochs=100,\n",
        "            verbose=0,\n",
        "            batch_size=128,\n",
        "            validation_data=(test_windows, test_labels),\n",
        "            callbacks=[create_model_checkpoint(model_name=model_3CSCO.name),\n",
        "                       tf.keras.callbacks.EarlyStopping(monitor='val_loss', patience=10)])"
      ]
    },
    {
      "cell_type": "code",
      "execution_count": 129,
      "metadata": {},
      "outputs": [
        {
          "name": "stdout",
          "output_type": "stream",
          "text": [
            "24/24 [==============================] - 1s 5ms/step - loss: 0.5279\n"
          ]
        },
        {
          "data": {
            "text/plain": [
              "0.5278878211975098"
            ]
          },
          "execution_count": 129,
          "metadata": {},
          "output_type": "execute_result"
        }
      ],
      "source": [
        "# Load in best version of model 3 and evaluate on the test data\n",
        "model_3CSCO = tf.keras.models.load_model(\"model_experiments/model_3CSCO_lstm/\")\n",
        "model_3CSCO.evaluate(test_windows, test_labels)"
      ]
    },
    {
      "cell_type": "code",
      "execution_count": 130,
      "metadata": {},
      "outputs": [
        {
          "name": "stdout",
          "output_type": "stream",
          "text": [
            "24/24 [==============================] - 1s 5ms/step\n"
          ]
        },
        {
          "data": {
            "text/plain": [
              "<tf.Tensor: shape=(10,), dtype=float32, numpy=\n",
              "array([33.88734 , 33.688637, 33.51574 , 33.129593, 33.1595  , 33.06199 ,\n",
              "       33.089264, 33.018593, 32.735313, 32.527225], dtype=float32)>"
            ]
          },
          "execution_count": 130,
          "metadata": {},
          "output_type": "execute_result"
        }
      ],
      "source": [
        "# Make predictions with our LSTM model\n",
        "model_3CSCO_preds = make_preds(model_3CSCO, test_windows)\n",
        "model_3CSCO_preds[:10]"
      ]
    },
    {
      "cell_type": "code",
      "execution_count": 131,
      "metadata": {},
      "outputs": [
        {
          "data": {
            "text/plain": [
              "{'mae': 0.5169371,\n",
              " 'mse': 0.6286358,\n",
              " 'rmse': 0.7928656,\n",
              " 'mape': 1.1881562,\n",
              " 'mase': 1.0084882}"
            ]
          },
          "execution_count": 131,
          "metadata": {},
          "output_type": "execute_result"
        }
      ],
      "source": [
        "# Evaluate model 3 preds\n",
        "model_3CSCO_results = evaluate_preds(y_true=tf.squeeze(test_labels),\n",
        "                                 y_pred=model_3CSCO_preds)\n",
        "model_3CSCO_results"
      ]
    },
    {
      "cell_type": "markdown",
      "metadata": {},
      "source": [
        "### Compare Models"
      ]
    },
    {
      "cell_type": "code",
      "execution_count": 133,
      "metadata": {},
      "outputs": [
        {
          "data": {
            "text/html": [
              "<div>\n",
              "<style scoped>\n",
              "    .dataframe tbody tr th:only-of-type {\n",
              "        vertical-align: middle;\n",
              "    }\n",
              "\n",
              "    .dataframe tbody tr th {\n",
              "        vertical-align: top;\n",
              "    }\n",
              "\n",
              "    .dataframe thead th {\n",
              "        text-align: right;\n",
              "    }\n",
              "</style>\n",
              "<table border=\"1\" class=\"dataframe\">\n",
              "  <thead>\n",
              "    <tr style=\"text-align: right;\">\n",
              "      <th></th>\n",
              "      <th>mae</th>\n",
              "      <th>mse</th>\n",
              "      <th>rmse</th>\n",
              "      <th>mape</th>\n",
              "      <th>mase</th>\n",
              "    </tr>\n",
              "  </thead>\n",
              "  <tbody>\n",
              "    <tr>\n",
              "      <th>model_1_LSTM</th>\n",
              "      <td>0.516565</td>\n",
              "      <td>0.623747</td>\n",
              "      <td>0.789777</td>\n",
              "      <td>1.186375</td>\n",
              "      <td>1.007763</td>\n",
              "    </tr>\n",
              "    <tr>\n",
              "      <th>model_2_LSTM</th>\n",
              "      <td>0.516116</td>\n",
              "      <td>0.615468</td>\n",
              "      <td>0.784518</td>\n",
              "      <td>1.183395</td>\n",
              "      <td>1.006886</td>\n",
              "    </tr>\n",
              "    <tr>\n",
              "      <th>model_3_LSTM</th>\n",
              "      <td>0.516937</td>\n",
              "      <td>0.628636</td>\n",
              "      <td>0.792866</td>\n",
              "      <td>1.188156</td>\n",
              "      <td>1.008488</td>\n",
              "    </tr>\n",
              "  </tbody>\n",
              "</table>\n",
              "</div>"
            ],
            "text/plain": [
              "                   mae       mse      rmse      mape      mase\n",
              "model_1_LSTM  0.516565  0.623747  0.789777  1.186375  1.007763\n",
              "model_2_LSTM  0.516116  0.615468  0.784518  1.183395  1.006886\n",
              "model_3_LSTM  0.516937  0.628636  0.792866  1.188156  1.008488"
            ]
          },
          "execution_count": 133,
          "metadata": {},
          "output_type": "execute_result"
        }
      ],
      "source": [
        "model_results = pd.DataFrame({\"model_1_LSTM\": model_1CSCO_results,\n",
        "                              \"model_2_LSTM\": model_2CSCO_results,\n",
        "                              \"model_3_LSTM\": model_3CSCO_results,\n",
        "                              }).T\n",
        "model_results.head(3)"
      ]
    },
    {
      "cell_type": "markdown",
      "metadata": {},
      "source": [
        "Didapat bahwa Model_2 memiliki performa paling baik dengan nilai MAE, RMSE, dan MAPE yang paling kecil dibanding ketiga model. Model 2 memiliki nilai MAE sebesar 0.5 yang merupakan rata - rata kesalahan dari nilai prediksi dengan nilai aktual, berarti prediksi model meleset sebesar 0.5 dari data aslinya. Model memiliki nilai RMSE yang merupakan akar kuadrat dari MSE sebesar 0.78 dan menggambarkan kesalahan model secara umum. Model memiliki nilai MAPE yang merupakan presentase dari kesalahan nilai prediksi dengan nilai aktual sebesar 1.18%."
      ]
    },
    {
      "cell_type": "markdown",
      "metadata": {},
      "source": []
    }
  ],
  "metadata": {
    "accelerator": "GPU",
    "colab": {
      "name": "10_time_series_forecasting_in_tensorflow.ipynb",
      "provenance": []
    },
    "kernelspec": {
      "display_name": "Python 3",
      "name": "python3"
    },
    "language_info": {
      "codemirror_mode": {
        "name": "ipython",
        "version": 3
      },
      "file_extension": ".py",
      "mimetype": "text/x-python",
      "name": "python",
      "nbconvert_exporter": "python",
      "pygments_lexer": "ipython3",
      "version": "3.10.9"
    }
  },
  "nbformat": 4,
  "nbformat_minor": 0
}
